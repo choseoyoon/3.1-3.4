{
 "cells": [
  {
   "cell_type": "markdown",
   "id": "66cf8b4a",
   "metadata": {},
   "source": [
    "신경망\n",
    " - 입력층\n",
    " - 출력층\n",
    " - 은닉층\n",
    "\n",
    "활성화 함수: 입력 신호의 총합이 활성화를 일으키는지를 정하는 역할"
   ]
  },
  {
   "cell_type": "code",
   "execution_count": 2,
   "id": "77e4aef7",
   "metadata": {},
   "outputs": [],
   "source": [
    "# 계단 함수 구현\n",
    "def step_function(x):    # 인수 x는 실수만 받아들인다\n",
    "    if x > 0:\n",
    "        return 1\n",
    "    else:\n",
    "        return 0"
   ]
  },
  {
   "cell_type": "code",
   "execution_count": 3,
   "id": "c176596b",
   "metadata": {},
   "outputs": [],
   "source": [
    "def step_function(x):\n",
    "    y = x > 0\n",
    "    return y.astype(np.int)"
   ]
  },
  {
   "cell_type": "code",
   "execution_count": null,
   "id": "3c6087c7",
   "metadata": {},
   "outputs": [],
   "source": [
    "import numpy as np\n",
    "x = np.array([-1.0, 1.0, 2.0])\n",
    "x\n",
    "y = x > 0\n",
    "y"
   ]
  },
  {
   "cell_type": "code",
   "execution_count": null,
   "id": "cbe24299",
   "metadata": {},
   "outputs": [],
   "source": [
    "y = y.astype(np.int)\n",
    "y"
   ]
  },
  {
   "cell_type": "code",
   "execution_count": null,
   "id": "03ccf57f",
   "metadata": {},
   "outputs": [],
   "source": [
    "# 계단 함수의 그래프\n",
    "\n",
    "import numpy as np\n",
    "import matplotlid.pylab as plt\n",
    "\n",
    "def step_funtion(x):\n",
    "    return np.array(x > 0, dtype=np.int)\n",
    "\n",
    "x = np.arange(-5.0, 5.0, 0.1)\n",
    "y = step_function(x)\n",
    "plt,plot(x, y)\n",
    "plt.ylim(-0.1, 1.1)    # y축의 범위 지정\n",
    "plt.show()"
   ]
  },
  {
   "cell_type": "code",
   "execution_count": null,
   "id": "7677b3d4",
   "metadata": {},
   "outputs": [],
   "source": [
    "# 시그모이드 함수 구현\n",
    "\n",
    "def sigmoid(x):\n",
    "    return 1 / (1 + np.exp(-x))\n",
    "x = np.array([-1.0, 1.0, 2.0])\n",
    "simoid(x)"
   ]
  },
  {
   "cell_type": "code",
   "execution_count": null,
   "id": "81464ab4",
   "metadata": {},
   "outputs": [],
   "source": [
    "t = np.aray([1.0, 2.0, 3.0])\n",
    "1.0 + t\n",
    "1.0 / t"
   ]
  },
  {
   "cell_type": "code",
   "execution_count": null,
   "id": "f8dd6106",
   "metadata": {},
   "outputs": [],
   "source": [
    "x = np.arange(-5.0, 5.0, 0.1)\n",
    "y = sigmoid(x)\n",
    "plt.plot(x, y)\n",
    "plt.ylim(-0.1, 1.1)    # y축 범위 지정\n",
    "plt.show"
   ]
  },
  {
   "cell_type": "markdown",
   "id": "9118a74b",
   "metadata": {},
   "source": [
    "시그모이드 함수와 계단 함수의 차이\n",
    " - 매끄러움의 차이 -> 시그모이드 함수의 매끈함이 신경망 학습에 중요한 역할을 한다.\n",
    "\n",
    "이 둘의 공통점\n",
    " - 입력이 중요하면 큰 값을 출력하고 입력이 중요하지 않으면 작은 값을 출력한다.\n",
    " - 입력이 아무리작거나 커도 출력은 0에서 1 사이 이다.\n",
    " - 비선형 함수: 직선 1개로는 그릴 수 없는 함수 -> 선형 함수를 이용하면 여러층을 구성X"
   ]
  },
  {
   "cell_type": "markdown",
   "id": "157d5bb6",
   "metadata": {},
   "source": [
    "ReLU 함수\n",
    ": 입력이 0을 넘으면 그 입력을 그대로 출력하고, 0 이하이면 0을 출력하는 함수"
   ]
  },
  {
   "cell_type": "code",
   "execution_count": null,
   "id": "4f9216a7",
   "metadata": {},
   "outputs": [],
   "source": [
    "# ReLU 함수\n",
    "\n",
    "def rulu(x):\n",
    "    return np.maximum(0, x)"
   ]
  },
  {
   "cell_type": "code",
   "execution_count": null,
   "id": "84a2016d",
   "metadata": {},
   "outputs": [],
   "source": [
    "# 다차원 배열\n",
    "\n",
    "import numpy as np\n",
    "A = np.array([1, 2, 3, 4])\n",
    "print(A)\n",
    "np.ndim(A)\n",
    "A.shape\n",
    "A.shape[0]"
   ]
  },
  {
   "cell_type": "code",
   "execution_count": null,
   "id": "b6eb33a2",
   "metadata": {},
   "outputs": [],
   "source": [
    "B = np.array([[1, 2], [3, 4], [5, 6]])\n",
    "print(B)\n",
    "np.ndim(B)\n",
    "B.shape"
   ]
  },
  {
   "cell_type": "code",
   "execution_count": null,
   "id": "b21afc29",
   "metadata": {},
   "outputs": [],
   "source": [
    "A = np. array([[1, 2], [3, 4]])\n",
    "A.shape\n",
    "\n",
    "B = np. array([[5, 6], [7, 8]])\n",
    "B.shape\n",
    "\n",
    "np.dot(A, B)\n",
    "\n",
    "C = np. array([[1, 2], [3, 4]])\n",
    "C.shape\n",
    "\n",
    "A.shape\n",
    "\n",
    "np.dot(A, C)    # 다차원 배열을 곱하려면 두 행렬의 대응하는 차원의 원소 수를 일치시켜야 한다."
   ]
  },
  {
   "cell_type": "code",
   "execution_count": null,
   "id": "f5c45737",
   "metadata": {},
   "outputs": [],
   "source": [
    "# 그림 3-13의 예시 구현\n",
    "\n",
    "A = np.array([[1, 2], [3, 4], [5, 6]])\n",
    "A.shape\n",
    "\n",
    "B = np. array([[7, 8]])\n",
    "B.shape\n",
    "\n",
    "np.dot(A, B)"
   ]
  },
  {
   "cell_type": "code",
   "execution_count": null,
   "id": "19a680d3",
   "metadata": {},
   "outputs": [],
   "source": [
    "# 신경망에서의 행렬 곱\n",
    "\n",
    "X = np. array([1, 2])\n",
    "X.shape\n",
    "\n",
    "W = np. array([[1, 3, 5], [2, 4, 6]])\n",
    "print(W)\n",
    "\n",
    "W.shape\n",
    "\n",
    "Y = np.dot(X, W)\n",
    "print(Y)"
   ]
  },
  {
   "cell_type": "code",
   "execution_count": null,
   "id": "b0481f31",
   "metadata": {},
   "outputs": [],
   "source": [
    "# 넘파이의 다차원 배열 이용\n",
    "\n",
    "X = np. array([1.0, 0.5])\n",
    "W1 = np. array([[0.1, 0.3, 0.5], [0.2, 0.4, 0.6]])\n",
    "B1 = np. array([0.1, 0.2, 0.3])\n",
    "\n",
    "print(W1.shape)    # (2, 3)\n",
    "print(X.shape)    # (2, )\n",
    "print(B1.shape)    # (3, )\n",
    "\n",
    "A1 = np.dot(X, W1) + B1"
   ]
  },
  {
   "cell_type": "code",
   "execution_count": null,
   "id": "de3bc3ac",
   "metadata": {},
   "outputs": [],
   "source": [
    "Z1 = sigmoid(A1)\n",
    "\n",
    "print(A1)   \n",
    "print(Z1)    "
   ]
  },
  {
   "cell_type": "code",
   "execution_count": null,
   "id": "e3d88b2c",
   "metadata": {},
   "outputs": [],
   "source": [
    "W2 = np.array([[0.1, 0.4], [0.2, 0.5], [0.3, 0.6]])\n",
    "B2 = np.array([0.1, 0.2])\n",
    "\n",
    "print(Z1.shape)    # (3, )\n",
    "print(W2.shape)    # (3, 2)\n",
    "print(B2.shape)    # (2, )\n",
    "\n",
    "A2 = np.dot(Z1, W2) + B2\n",
    "Z2 = sigmoid(A2)"
   ]
  },
  {
   "cell_type": "code",
   "execution_count": null,
   "id": "b9e0b15e",
   "metadata": {},
   "outputs": [],
   "source": [
    "def identity_function(x):\n",
    "    return x\n",
    "\n",
    "W3 = np.array([[0.1, 0.3], [0.2, 0.4]])\n",
    "B3 = np.array([0.1, 0.2])\n",
    "\n",
    "A3 = np.dot(Z2, W3) + B3\n",
    "Y = identity_function(A3)    # 혹은 Y = A3"
   ]
  },
  {
   "cell_type": "code",
   "execution_count": null,
   "id": "bf2ccdb6",
   "metadata": {},
   "outputs": [],
   "source": [
    "def init_network():\n",
    "    network = {}\n",
    "    network['W1'] = np.array([[0.1, 0.3, 0.5], [0.2, 0.4, 0.6]])\n",
    "    network['b1'] = np.array([0.1, 0.2, 0.3])\n",
    "    network['W2'] = np.array([[0.1, 0.4], [0.2, 0.5], [0.3, 0.6]])\n",
    "    network['b2'] = np.array([0.1, 0.2])\n",
    "    network['W3'] = np.array([[0.1, 0.3], [0.2, 0.4]])\n",
    "    network['b3'] = np.array([0.1, 0.2])\n",
    "    \n",
    "    return network\n",
    "\n",
    "def forword(network, x):\n",
    "    W1, W2, W3 = network['W1'], network['W2'], network['W3']\n",
    "    b1, b2, b3 = network['b1'], network['b2'], network['b3']\n",
    "    \n",
    "    a1 = np.dot(x, W1) + b1\n",
    "    z1 = sigmoid(a1)\n",
    "    a2 = np.dot(z1, W2) + b2\n",
    "    z2 = sigmoid(a2)\n",
    "    a3 = np.dot(z2, W3) + b3\n",
    "    y = indentity_function(a3)\n",
    "    \n",
    "    return y\n",
    "\n",
    "network = init_network()\n",
    "x = np.array([1.0, 0.5])\n",
    "y = np.array(network, x)\n",
    "print(y)"
   ]
  },
  {
   "cell_type": "code",
   "execution_count": null,
   "id": "24d2b849",
   "metadata": {},
   "outputs": [],
   "source": []
  },
  {
   "cell_type": "code",
   "execution_count": null,
   "id": "6d0cc7c4",
   "metadata": {},
   "outputs": [],
   "source": []
  },
  {
   "cell_type": "code",
   "execution_count": null,
   "id": "031842d3",
   "metadata": {},
   "outputs": [],
   "source": []
  },
  {
   "cell_type": "code",
   "execution_count": null,
   "id": "bea36fd6",
   "metadata": {},
   "outputs": [],
   "source": []
  },
  {
   "cell_type": "code",
   "execution_count": null,
   "id": "df99cfb1",
   "metadata": {},
   "outputs": [],
   "source": []
  }
 ],
 "metadata": {
  "kernelspec": {
   "display_name": "Python 3 (ipykernel)",
   "language": "python",
   "name": "python3"
  },
  "language_info": {
   "codemirror_mode": {
    "name": "ipython",
    "version": 3
   },
   "file_extension": ".py",
   "mimetype": "text/x-python",
   "name": "python",
   "nbconvert_exporter": "python",
   "pygments_lexer": "ipython3",
   "version": "3.10.5"
  }
 },
 "nbformat": 4,
 "nbformat_minor": 5
}
